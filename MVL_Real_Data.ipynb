{
 "cells": [
  {
   "cell_type": "markdown",
   "id": "29a6455a",
   "metadata": {},
   "source": [
    "### Required Headers"
   ]
  },
  {
   "cell_type": "code",
   "execution_count": 1,
   "id": "194b8269",
   "metadata": {},
   "outputs": [],
   "source": [
    "import numpy as np\n",
    "\n",
    "import torch\n",
    "import torch.nn as nn\n",
    "import torch.optim as optim\n",
    "import time\n",
    "import os\n",
    "import sys\n",
    "\n",
    "from model.model import MV_MODEL\n",
    "\n",
    "from dataset.TimeDataset import TimeDataset\n",
    "\n",
    "from torch.utils.data import DataLoader\n",
    "\n",
    "from preprocess.synthetic.multi_view_dataset import *\n",
    "from utils.data_utils import get_MV_Data\n",
    "from utils.time_utils import print_train_time\n",
    "from utils.plot_utils import plot_losses\n",
    "from utils.plot_utils import plot_multi_view_data_forecasted\n",
    "from utils.plot_utils import plot_single_view_data_forecasted\n",
    "from utils.generic_utils import create_directory\n",
    "\n",
    "from constants.hyper_params import *"
   ]
  },
  {
   "cell_type": "code",
   "execution_count": 2,
   "id": "bb4ab59f",
   "metadata": {},
   "outputs": [
    {
     "name": "stdout",
     "output_type": "stream",
     "text": [
      "Device :  cpu\n"
     ]
    }
   ],
   "source": [
    "#device = torch.device('cuda' if torch.cuda.is_available() else 'cpu')\n",
    "device = torch.device('cpu')\n",
    "print('Device : ',device)"
   ]
  },
  {
   "cell_type": "markdown",
   "id": "e5f6655a-522b-4485-be89-f0cd7c6f67a5",
   "metadata": {},
   "source": [
    "### Random Seed"
   ]
  },
  {
   "cell_type": "code",
   "execution_count": 3,
   "id": "0f5b2f11-8766-43be-9316-3fcfaa1c46ca",
   "metadata": {},
   "outputs": [
    {
     "name": "stdout",
     "output_type": "stream",
     "text": [
      "1. seed :  39\n"
     ]
    }
   ],
   "source": [
    "import random\n",
    "    \n",
    "seed = random.randint(0, 100)\n",
    "#seed = 52, 91(trials), 29(best) # for SWaT\n",
    "#seed = 76 # for HAI\n",
    "#seed = 10\n",
    "print('1. seed : ',seed)\n",
    "random.seed(seed)\n",
    "np.random.seed(seed)\n",
    "torch.manual_seed(seed)\n",
    "torch.cuda.manual_seed(seed)\n",
    "torch.cuda.manual_seed_all(seed)\n",
    "torch.backends.cudnn.benchmark = False\n",
    "torch.backends.cudnn.deterministic = True"
   ]
  },
  {
   "cell_type": "markdown",
   "id": "71cd243c",
   "metadata": {},
   "source": [
    "### Acquiring the Multi-View Time Series Data"
   ]
  },
  {
   "cell_type": "code",
   "execution_count": 4,
   "id": "a3803662",
   "metadata": {},
   "outputs": [
    {
     "name": "stdout",
     "output_type": "stream",
     "text": [
      "(31, 153000)\n",
      "(12, 153000)\n",
      "(5, 153000)\n",
      "(11, 153000)\n"
     ]
    }
   ],
   "source": [
    "MVTS_View_Wise_Data, labels = get_MV_Data()\n",
    "#MVTS_View_Wise_Data = get_dataset()\n",
    "#MVTS_View_Wise_Data = Sine_multi_view()\n",
    "sequence_length = MVTS_View_Wise_Data[0].shape[1]\n",
    "num_sequences = sequence_length - window_size + 1"
   ]
  },
  {
   "cell_type": "markdown",
   "id": "0761891f",
   "metadata": {},
   "source": [
    "### Splitting into training, validation and testing"
   ]
  },
  {
   "cell_type": "code",
   "execution_count": 5,
   "id": "b60e1c18",
   "metadata": {},
   "outputs": [],
   "source": [
    "#-------- Assume data to be split as [train, val, test] --------\n",
    "train_seq_start = 0\n",
    "train_seq_end = int((1 - (val_ratio + test_ratio)) * num_sequences)\n",
    "\n",
    "val_seq_start = train_seq_end\n",
    "val_seq_end = int((1 - test_ratio) * num_sequences)\n",
    "\n",
    "test_seq_start = val_seq_end\n",
    "test_seq_end = num_sequences - 1\n",
    "#test_seq_end = num_sequences "
   ]
  },
  {
   "cell_type": "code",
   "execution_count": 6,
   "id": "5e9d959d",
   "metadata": {},
   "outputs": [
    {
     "name": "stdout",
     "output_type": "stream",
     "text": [
      "Length of train dataloader :  120\n",
      "Length of validation dataloader :  60\n",
      "Length of test dataloader :  61196\n"
     ]
    }
   ],
   "source": [
    "train_dataset = TimeDataset(MVTS_View_Wise_Data, window_size, train_seq_start, train_seq_end) \n",
    "train_loader = DataLoader(dataset = train_dataset, batch_size=batch, shuffle=False )\n",
    "\n",
    "val_dataset = TimeDataset(MVTS_View_Wise_Data, window_size, val_seq_start, val_seq_end) \n",
    "val_loader = DataLoader(dataset = val_dataset, batch_size=batch, shuffle=False )\n",
    "\n",
    "test_dataset = TimeDataset(MVTS_View_Wise_Data, window_size, test_seq_start, test_seq_end) \n",
    "test_loader = DataLoader(dataset = test_dataset, batch_size=1, shuffle=False )\n",
    "\n",
    "print('Length of train dataloader : ',len(train_loader))\n",
    "print('Length of validation dataloader : ',len(val_loader))\n",
    "print('Length of test dataloader : ',len(test_loader))"
   ]
  },
  {
   "cell_type": "markdown",
   "id": "476caa90",
   "metadata": {},
   "source": [
    "### Model, Loss, Optimizer Initialization"
   ]
  },
  {
   "cell_type": "code",
   "execution_count": 7,
   "id": "6d3e308a",
   "metadata": {},
   "outputs": [
    {
     "name": "stdout",
     "output_type": "stream",
     "text": [
      "Number Of Views :  4\n",
      "31\n",
      "12\n",
      "5\n",
      "11\n"
     ]
    }
   ],
   "source": [
    "num_views = len(MVTS_View_Wise_Data)\n",
    "print('Number Of Views : ',num_views)\n",
    "\n",
    "#-------- Getting the data view wise and the corresponding dimensions -------\n",
    "Per_View_Dims = [] \n",
    "\n",
    "k = 0\n",
    "for view in MVTS_View_Wise_Data :\n",
    " #----- Number Of Sensors per view -----\n",
    " N = view.shape[0]\n",
    " Per_View_Dims.append(N)\n",
    " print(N)"
   ]
  },
  {
   "cell_type": "code",
   "execution_count": 8,
   "id": "5c168963",
   "metadata": {},
   "outputs": [],
   "source": [
    "#mv_model = MV_MODEL(window_size, window_size//2,  Per_View_Dims) #.to(device) #7, \n",
    "mv_model = MV_MODEL(window_size, Per_View_Dims)\n",
    "mv_model = mv_model.double()\n",
    "\n",
    "criterion = nn.MSELoss()\n",
    "optimizer = optim.SGD(mv_model.parameters(), lr=learning_rate)\n",
    "#optimizer = optim.Adam(mv_model.parameters(), lr=learning_rate)"
   ]
  },
  {
   "cell_type": "code",
   "execution_count": 9,
   "id": "03257799-3b8b-48f3-b660-65d96e54c8a6",
   "metadata": {},
   "outputs": [],
   "source": [
    "#from torchsummary import summary\n",
    "#summary(mv_model,input_size=(512, 19, 10))"
   ]
  },
  {
   "cell_type": "markdown",
   "id": "411cf518",
   "metadata": {},
   "source": [
    "### Hyperparameters, Losses"
   ]
  },
  {
   "cell_type": "code",
   "execution_count": 10,
   "id": "4b566e56",
   "metadata": {},
   "outputs": [
    {
     "name": "stdout",
     "output_type": "stream",
     "text": [
      "lamda1 : 1; lamda2 : 1; lamda3 : 1; lamda4 : 0; lamda5 : 0; \n"
     ]
    }
   ],
   "source": [
    "l = r\"lamda1 : {}; lamda2 : {}; lamda3 : {}; lamda4 : {}; lamda5 : {}; \".format(lamdas[0],lamdas[1],lamdas[2],lamdas[3],lamdas[4])\n",
    "print(l)\n",
    "\n",
    "#---- Losses list to be plotted towards the end of training\n",
    "train_loss_list = []\n",
    "train_pred_loss_list = []\n",
    "train_recons_loss_list = []\n",
    "view_recons_loss_list = []\n",
    "norms_list = []\n",
    "\n",
    "losses = ()"
   ]
  },
  {
   "cell_type": "markdown",
   "id": "d9be1560",
   "metadata": {},
   "source": [
    "### Training & Validation Block"
   ]
  },
  {
   "cell_type": "code",
   "execution_count": 11,
   "id": "5e5aeaa9",
   "metadata": {},
   "outputs": [
    {
     "name": "stdout",
     "output_type": "stream",
     "text": [
      "Epoch : 10; L1 = 0.470338; L2 = 0.060885; L3 = 0.015960; L4 = 0.547183; L5 = 0.116794; L6 = 1.506947\n",
      "Epoch : 20; L1 = 0.137008; L2 = 0.067739; L3 = 0.017906; L4 = 0.222654; L5 = 0.193988; L6 = 1.635437\n",
      "Epoch : 30; L1 = 0.085241; L2 = 0.008114; L3 = 0.008996; L4 = 0.102350; L5 = 0.229578; L6 = 1.723920\n",
      "Epoch : 40; L1 = 0.078172; L2 = 0.003158; L3 = 0.008072; L4 = 0.089402; L5 = 0.251513; L6 = 1.800533\n",
      "Epoch : 50; L1 = 0.050835; L2 = 0.003568; L3 = 0.008163; L4 = 0.062565; L5 = 0.259543; L6 = 1.856022\n",
      "Epoch : 60; L1 = 0.042576; L2 = 0.003223; L3 = 0.008018; L4 = 0.053817; L5 = 0.260963; L6 = 1.907641\n",
      "Epoch : 70; L1 = 0.032745; L2 = 0.003228; L3 = 0.007530; L4 = 0.043502; L5 = 0.263077; L6 = 1.979195\n",
      "Epoch : 80; L1 = 0.027117; L2 = 0.003254; L3 = 0.009089; L4 = 0.039460; L5 = 0.265130; L6 = 2.024483\n",
      "Epoch : 90; L1 = 0.023012; L2 = 0.003188; L3 = 0.011331; L4 = 0.037531; L5 = 0.266308; L6 = 2.043216\n",
      "Epoch : 100; L1 = 0.020105; L2 = 0.003215; L3 = 0.010731; L4 = 0.034051; L5 = 0.267682; L6 = 2.060873\n",
      "Epoch : 110; L1 = 0.017954; L2 = 0.003278; L3 = 0.009098; L4 = 0.030330; L5 = 0.268520; L6 = 2.076310\n",
      "Epoch : 120; L1 = 0.016422; L2 = 0.003335; L3 = 0.008039; L4 = 0.027796; L5 = 0.270151; L6 = 2.093581\n",
      "Epoch : 130; L1 = 0.015332; L2 = 0.003383; L3 = 0.006591; L4 = 0.025305; L5 = 0.272512; L6 = 2.110620\n",
      "Epoch : 140; L1 = 0.014541; L2 = 0.003418; L3 = 0.005254; L4 = 0.023214; L5 = 0.274677; L6 = 2.125784\n",
      "Epoch : 150; L1 = 0.013985; L2 = 0.003449; L3 = 0.004497; L4 = 0.021931; L5 = 0.276631; L6 = 2.137877\n",
      "Epoch : 160; L1 = 0.013566; L2 = 0.003473; L3 = 0.004122; L4 = 0.021161; L5 = 0.278465; L6 = 2.147110\n",
      "Epoch : 170; L1 = 0.013212; L2 = 0.003495; L3 = 0.003603; L4 = 0.020309; L5 = 0.280129; L6 = 2.156546\n",
      "Epoch : 180; L1 = 0.012954; L2 = 0.003504; L3 = 0.003407; L4 = 0.019865; L5 = 0.281669; L6 = 2.166004\n",
      "Epoch : 190; L1 = 0.012746; L2 = 0.003518; L3 = 0.003276; L4 = 0.019540; L5 = 0.283077; L6 = 2.174192\n",
      "Epoch : 200; L1 = 0.012583; L2 = 0.003538; L3 = 0.003023; L4 = 0.019144; L5 = 0.284362; L6 = 2.181586\n",
      "Training time ( mins ) :  25.67\n"
     ]
    }
   ],
   "source": [
    "start_time=time.time()\n",
    "\n",
    "for epoch in range(num_epochs):\n",
    " \n",
    "   #Set the model to training mode\n",
    "   mv_model.train()\n",
    " \n",
    "   h_prev = []\n",
    " \n",
    "   for idx, (x_curr, y) in enumerate(train_loader):   \n",
    "        \n",
    "      if idx == 0:\n",
    "        for k in range(num_views):\n",
    "          h_prev.append(x_curr[k].clone().detach())\n",
    "      else :\n",
    "          \n",
    "        h_curr, x_pred, z, z_ = mv_model(h_prev, x_curr) \n",
    "          \n",
    "        #losses = mv_model.compute_losses(h_curr, x_curr, x_pred, y, z, z_, lamdas, device) \n",
    "        losses = mv_model.compute_losses(h_curr, x_curr, x_pred, y, z, z_, lamdas) \n",
    "        \n",
    "        total_loss = losses[3]\n",
    "          \n",
    "        optimizer.zero_grad()\n",
    "        total_loss.backward()\n",
    "        optimizer.step()\n",
    "        \n",
    "        mv_model.zero_diagonal()\n",
    "        \n",
    "        h_prev = []\n",
    "        for k in range(num_views):\n",
    "          h_prev.append(h_curr[k].clone().detach())\n",
    "        \n",
    "   train_recons_loss_list.append(losses[0].item())\n",
    "   view_recons_loss_list.append(losses[1].item())   \n",
    "   train_pred_loss_list.append(losses[2].item())\n",
    "   train_loss_list.append(losses[3].item())\n",
    "   \n",
    "   #Set the model to evaluation mode\n",
    "   mv_model.eval()\n",
    " \n",
    "   h_prev = []\n",
    "   val_pred_data = []\n",
    "   \n",
    "   total_loss = 0.0\n",
    "   val_steps = 0\n",
    "   \n",
    "   for idx, (x_curr, y) in enumerate(val_loader):   \n",
    "        \n",
    "      if idx == 0:\n",
    "        for k in range(num_views):\n",
    "          h_prev.append(x_curr[k].clone().detach())\n",
    "      else :\n",
    "          \n",
    "        h_curr, x_pred, z, z_ = mv_model(h_prev, x_curr) \n",
    "        \n",
    "        # ---- Validation prediction is primarily intended for synthetic data ----\n",
    "        #if len(val_pred_data) == 0:\n",
    "           #for k in range(num_views):\n",
    "               #val_pred_data.append(x_pred[k])\n",
    "        #else:\n",
    "           #for k in range(num_views):\n",
    "             #val_pred_data[k] = torch.cat([val_pred_data[k], x_pred[k]], dim=0)\n",
    "             \n",
    "        #losses = mv_model.compute_losses(h_curr, x_curr, x_pred, y, z, z_, lamdas, device) #z_, \n",
    "        \n",
    "        losses = mv_model.compute_losses(h_curr, x_curr, x_pred, y, z, z_, lamdas)\n",
    "        total_loss += losses[3].item()\n",
    "        val_steps += 1\n",
    "                \n",
    "        mv_model.zero_diagonal()\n",
    "        \n",
    "        h_prev = []\n",
    "        for k in range(num_views):\n",
    "          h_prev.append(h_curr[k].clone().detach())\n",
    "   \n",
    "  \n",
    "   val_loss = total_loss/val_steps\n",
    "   \n",
    "   if val_loss < best_val_loss:   \n",
    "        #torch.save(mv_model.state_dict(), 'MVL_params.pt')\n",
    "        best_val_loss = val_loss\n",
    "        current_patience = 0\n",
    "   else:\n",
    "        current_patience += 1\n",
    "  \n",
    "   # Early stopping with patience parameter\n",
    "   if current_patience >= patience:\n",
    "        print(f\"Early stopping at epoch {epoch+1}\")\n",
    "        break  \n",
    "   \n",
    "   if((epoch+1)%10 == 0):\n",
    "     #print('------------- Epoch : ',epoch+1, '--------------')\n",
    "     L1 = f'Epoch : {epoch+1}; L1 = {losses[0].item():.6f}; L2 = {losses[1].item():.6f}; L3 = {losses[2].item():.6f}; L4 = {losses[3].item():.6f}; L5 = {losses[4].item():.6f}; L6 = {losses[5].item():.6f}'\n",
    "     print(L1)\n",
    "     \n",
    "  \n",
    "#----- Printing total training time ---------------\n",
    "train_time = (time.time()-start_time)\n",
    "print_train_time(train_time)"
   ]
  },
  {
   "cell_type": "markdown",
   "id": "eba44240",
   "metadata": {},
   "source": [
    "### Saving model and plotting losses"
   ]
  },
  {
   "cell_type": "code",
   "execution_count": 12,
   "id": "4e66ac36",
   "metadata": {},
   "outputs": [
    {
     "data": {
      "image/png": "[encoded data removed]",
      "text/plain": [
       "<Figure size 720x432 with 1 Axes>"
      ]
     },
     "metadata": {
      "needs_background": "light"
     },
     "output_type": "display_data"
    }
   ],
   "source": [
    "#----- Saving model --------------------\n",
    "torch.save(mv_model.state_dict(), 'MVL_params.pt')\n",
    "\n",
    "#----- Plotting losses ---------------\n",
    "loss_dict = {}\n",
    "#loss_dict['Reconstruction Loss'] = train_recons_loss_list\n",
    "#loss_dict['View_Reconstruction Loss'] = view_recons_loss_list\n",
    "#loss_dict['Prediction Loss'] = train_pred_loss_list\n",
    "loss_dict['Total Loss'] = train_loss_list\n",
    "plot_losses(epoch+1, loss_dict)"
   ]
  },
  {
   "cell_type": "markdown",
   "id": "d4ad9928",
   "metadata": {},
   "source": [
    "### Testing Block"
   ]
  },
  {
   "cell_type": "code",
   "execution_count": 13,
   "id": "e223df6a",
   "metadata": {},
   "outputs": [],
   "source": [
    "#labels = labels[test_seq_start:]\n",
    "#print('Labels shape: ',(labels.values).shape,'; type : ',type(labels.values))\n",
    "mv_model_test = MV_MODEL(window_size, Per_View_Dims)\n",
    "mv_model_test = mv_model_test.double()\n",
    "\n",
    "mv_model_test.load_state_dict(torch.load('MVL_params.pt'))\n",
    "\n",
    "inference_embeddings = []"
   ]
  },
  {
   "cell_type": "code",
   "execution_count": 14,
   "id": "07001450",
   "metadata": {},
   "outputs": [
    {
     "name": "stdout",
     "output_type": "stream",
     "text": [
      "Inference time ( mins ) :  3.00\n",
      "Total number of predictions :  61195\n"
     ]
    }
   ],
   "source": [
    "from utils.time_utils import get_time\n",
    "\n",
    "pred_list = []\n",
    "loss_func = nn.MSELoss()\n",
    "\n",
    "start_time=time.time()\n",
    "\n",
    "mv_model_test.eval()\n",
    "\n",
    "#------------------------ Inferencing ----------------------------\n",
    "\n",
    "h_prev = []\n",
    "\n",
    "for idx, (x_curr, y) in enumerate(test_loader):   \n",
    "      \n",
    "   with torch.no_grad(): \n",
    "      if idx == 0:\n",
    "        for k in range(num_views):\n",
    "          h_prev.append(x_curr[k])\n",
    "      else :\n",
    "        h_curr, x_pred, z, z_ = mv_model_test(h_prev, x_curr) \n",
    "        \n",
    "        if len(inference_embeddings) == 0:\n",
    "           for k in range(num_views):          \n",
    "               inference_embeddings.append([h_curr[k]])\n",
    "        else:\n",
    "           for k in range(num_views):\n",
    "               inference_embeddings[k].append(h_curr[k])\n",
    "             #inference_embeddings[k] = torch.cat([inference_embeddings[k], h_curr[k]], dim=0)\n",
    "\n",
    "        #--------------- Anomaly Scoring 1 ------------------\n",
    "        pred_difference = 0\n",
    "        recons_difference = 0\n",
    "   \n",
    "        for k in range(num_views):\n",
    "          pred_difference = pred_difference + loss_func(y[k],x_pred[k])\n",
    "          recons_difference = pred_difference + loss_func(x_curr[k],h_curr[k])\n",
    "     \n",
    "        #pred_difference = pred_difference / num_views\n",
    "        #recons_difference = recons_difference / num_views\n",
    "        pred_difference = pred_difference \n",
    "        recons_difference = recons_difference \n",
    "        total_difference = pred_difference + recons_difference\n",
    "        #total_difference = (pred_difference + recons_difference)/2\n",
    "        pred_list.append(total_difference)\n",
    "        \n",
    "        #--------------- Anomaly Scoring 2 ------------------\n",
    "        #losses = mv_model.compute_losses(h_curr, x_curr, x_pred, y, z, z_, lamdas, device)\n",
    "        losses = mv_model_test.compute_losses(h_curr, x_curr, x_pred, y, z, z_, lamdas)\n",
    "        total_difference = losses[0].item() + losses[1].item()\n",
    "        #pred_list.append(total_difference)\n",
    "        #pred_list.append(losses[3].item())\n",
    "   \n",
    "        h_prev = []\n",
    "        for k in range(num_views):\n",
    "          h_prev.append(h_curr[k]) \n",
    "    \n",
    "#----- Printing total training time ---------------\n",
    "test_time = (time.time()-start_time)\n",
    "time_measure, formatted_time = get_time(test_time)\n",
    "print('Inference time (',time_measure,') : ',formatted_time)\n",
    "pred_len = len(pred_list)\n",
    "print('Total number of predictions : ',pred_len)"
   ]
  },
  {
   "cell_type": "markdown",
   "id": "6ca6e491",
   "metadata": {},
   "source": [
    "### Performance Evaluation"
   ]
  },
  {
   "cell_type": "markdown",
   "id": "d9d676b6-38e5-4471-ac62-dd950f5fde9d",
   "metadata": {},
   "source": [
    "## ROC-AUC"
   ]
  },
  {
   "cell_type": "code",
   "execution_count": 15,
   "id": "f2262fca",
   "metadata": {},
   "outputs": [
    {
     "name": "stdout",
     "output_type": "stream",
     "text": [
      "(153000,)\n",
      "(61195,)\n",
      "ROC AUC-Score : 0.883818\n",
      "PR AUC-Score : 0.053128\n"
     ]
    }
   ],
   "source": [
    "from sklearn.metrics import roc_curve, auc, precision_recall_curve\n",
    "\n",
    "#labels = labels.values\n",
    "print(labels.shape)\n",
    "unique_values = np.unique(labels)\n",
    "#print(unique_values)\n",
    "errors = np.array(pred_list)\n",
    "print(errors.shape)\n",
    "\n",
    "gt_labels = labels[-pred_len:]\n",
    "fprs, tprs, thresholds = roc_curve(gt_labels, errors)\n",
    "fprs = fprs.reshape(-1,1)\n",
    "tprs = tprs.reshape(-1,1)\n",
    "auc_score = auc(fprs, tprs) \n",
    "print(f'ROC AUC-Score : {auc_score:.6f}')\n",
    "\n",
    "precision, recall, pr_thresholds = precision_recall_curve(gt_labels, errors)\n",
    "pr_auc = auc(recall, precision)\n",
    "print(f'PR AUC-Score : {pr_auc:.6f}')"
   ]
  },
  {
   "cell_type": "code",
   "execution_count": 16,
   "id": "fd4d4871-63cc-4788-a567-62290db4ab1c",
   "metadata": {},
   "outputs": [
    {
     "data": {
      "image/png": "[encoded data removed]",
      "text/plain": [
       "<Figure size 576x432 with 1 Axes>"
      ]
     },
     "metadata": {
      "needs_background": "light"
     },
     "output_type": "display_data"
    }
   ],
   "source": [
    "from utils.plot_utils import plot_roc_auc\n",
    "\n",
    "plot_roc_auc(fprs, tprs, auc_score)"
   ]
  },
  {
   "cell_type": "markdown",
   "id": "6a169bc6-1866-404f-aad2-0fecb1622acf",
   "metadata": {},
   "source": [
    "## PRECISION, RECALL, F1"
   ]
  },
  {
   "cell_type": "code",
   "execution_count": 17,
   "id": "14c9b975-120a-44a2-ae5f-d1af8e869bcf",
   "metadata": {},
   "outputs": [],
   "source": [
    "# def get_pred_labels(errors, threshold):\n",
    "#   pred_labels = np.zeros(len(errors))\n",
    "#   pred_labels[errors > threshold] = 1\n",
    "#   return pred_labels"
   ]
  },
  {
   "cell_type": "code",
   "execution_count": 18,
   "id": "313a7f26-5f8c-4ed6-9895-451a27895dd7",
   "metadata": {},
   "outputs": [],
   "source": [
    "# from sklearn.metrics import precision_score, recall_score, f1_score\n",
    "\n",
    "# fprs = fprs.reshape(-1,1)\n",
    "# tprs = tprs.reshape(-1,1)\n",
    "# thresholds = thresholds.reshape(-1,1)\n",
    "# roc_samples = np.hstack((fprs, tprs, thresholds))"
   ]
  },
  {
   "cell_type": "code",
   "execution_count": 19,
   "id": "2b1ba87c",
   "metadata": {},
   "outputs": [],
   "source": [
    "# allowed_fpr = 0.06\n",
    "# filtered_roc = roc_samples[roc_samples[:, 0] <= allowed_fpr] #0.05\n",
    "# print(f'Allowed FPR : {allowed_fpr:.6f}')\n",
    "  \n",
    "# sorted_indices = np.argsort(filtered_roc[:, 1])\n",
    "# sorted_roc = filtered_roc[sorted_indices]\n",
    "# des_FPR = sorted_roc[-1, 0]\n",
    "# print(f'Desired FPR : {des_FPR:.6f}')\n",
    "\n",
    "# des_threshold = sorted_roc[-1, 2]\n",
    "# print(f'Desired Threshold : {des_threshold:.6f}')\n",
    "\n",
    "# pred_labels = get_pred_labels(errors, des_threshold)\n",
    "\n",
    "# pre = precision_score(gt_labels, pred_labels)\n",
    "# rec = recall_score(gt_labels, pred_labels)\n",
    "# f1 = f1_score(gt_labels, pred_labels)"
   ]
  },
  {
   "cell_type": "code",
   "execution_count": 20,
   "id": "3b7436d8-6daa-4c33-b3af-0d9cd1a196f7",
   "metadata": {},
   "outputs": [],
   "source": [
    "# print(f'Precision : {pre:.6f}')\n",
    "# print(f'Recall : {rec:.6f}')\n",
    "# print(f'F1-Score : {f1:.6f}')"
   ]
  },
  {
   "cell_type": "markdown",
   "id": "26aab125-31f2-498b-afb5-8cab5829c152",
   "metadata": {},
   "source": [
    "### Inference Embeddings"
   ]
  },
  {
   "cell_type": "code",
   "execution_count": 21,
   "id": "33b25c83-5fe3-4f22-badb-8e093ec974a0",
   "metadata": {},
   "outputs": [],
   "source": [
    "#print('Inference Embeddings :')\n",
    "\n",
    "#for k in range(num_views):\n",
    "    #print(len(inference_embeddings[k]))\n",
    "    #print(inference_embeddings[k].shape)\n",
    "    \n",
    "#print(inference_embeddings[k][0].shape)"
   ]
  },
  {
   "cell_type": "code",
   "execution_count": 22,
   "id": "e167bd48-e611-48e0-b37f-815dec3fdd0f",
   "metadata": {},
   "outputs": [],
   "source": [
    "#print(inference_embeddings[4][0].shape)"
   ]
  },
  {
   "cell_type": "code",
   "execution_count": 23,
   "id": "4cd61845-e965-433d-9d57-33b8cb66b3ca",
   "metadata": {},
   "outputs": [],
   "source": [
    "# from utils.plot_utils import plot_tSNE\n",
    "\n",
    "# plot_tSNE(inference_embeddings, pred_labels, gt_labels)"
   ]
  },
  {
   "cell_type": "code",
   "execution_count": null,
   "id": "56efcbd9-0234-4e38-8d64-6c71359392ae",
   "metadata": {},
   "outputs": [],
   "source": []
  }
 ],
 "metadata": {
  "kernelspec": {
   "display_name": "Python 3 (ipykernel)",
   "language": "python",
   "name": "python3"
  },
  "language_info": {
   "codemirror_mode": {
    "name": "ipython",
    "version": 3
   },
   "file_extension": ".py",
   "mimetype": "text/x-python",
   "name": "python",
   "nbconvert_exporter": "python",
   "pygments_lexer": "ipython3",
   "version": "3.9.12"
  }
 },
 "nbformat": 4,
 "nbformat_minor": 5
}
